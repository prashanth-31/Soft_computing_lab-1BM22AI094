{
  "nbformat": 4,
  "nbformat_minor": 0,
  "metadata": {
    "colab": {
      "provenance": []
    },
    "kernelspec": {
      "name": "python3",
      "display_name": "Python 3"
    },
    "language_info": {
      "name": "python"
    }
  },
  "cells": [
    {
      "cell_type": "markdown",
      "source": [
        "Program 7\n",
        "\n",
        "Grey Wolf Optimization"
      ],
      "metadata": {
        "id": "TaAYVjerby5c"
      }
    },
    {
      "cell_type": "code",
      "source": [
        "import numpy as np\n",
        "\n",
        "def objective_function(x):\n",
        "    return np.sum(x**2)\n",
        "\n",
        "def gwo(obj_func, dim, n_agents, n_iter, lb, ub):\n",
        "    pos = np.random.uniform(lb, ub, (n_agents, dim))\n",
        "    alpha = beta = delta = np.zeros(dim)\n",
        "    scores = [np.inf, np.inf, np.inf]\n",
        "\n",
        "    for t in range(n_iter):\n",
        "        a = 2 - t * 2 / n_iter\n",
        "\n",
        "        for i in range(n_agents):\n",
        "            pos[i] = np.clip(pos[i], lb, ub)\n",
        "            fit = obj_func(pos[i])\n",
        "            if fit < scores[0]:\n",
        "                scores = [fit, *scores[:2]]\n",
        "                alpha, beta, delta = pos[i], alpha, beta\n",
        "            elif fit < scores[1]:\n",
        "                scores[1:] = fit, scores[1]\n",
        "                beta, delta = pos[i], beta\n",
        "            elif fit < scores[2]:\n",
        "                scores[2] = fit\n",
        "                delta = pos[i]\n",
        "\n",
        "        A = 2 * a * np.random.rand(3, dim) - a\n",
        "        C = 2 * np.random.rand(3, dim)\n",
        "        X = []\n",
        "        for best, a_, c_ in zip([alpha, beta, delta], A, C):\n",
        "            D = abs(c_ * best - pos)\n",
        "            X.append(best - a_ * D)\n",
        "        pos = np.mean(X, axis=0)\n",
        "\n",
        "        print(f\"Iter {t+1} | Best: {scores[0]:.5f}\")\n",
        "\n",
        "    return alpha, scores[0]\n",
        "\n",
        "# Run the optimizer\n",
        "if __name__ == \"__main__\":\n",
        "    best_pos, best_score = gwo(objective_function, dim=5, n_agents=20, n_iter=50, lb=-10, ub=10)\n",
        "    print(\"\\nBest Position:\", best_pos)\n",
        "    print(\"Best Score:\", best_score)"
      ],
      "metadata": {
        "colab": {
          "base_uri": "https://localhost:8080/"
        },
        "id": "OXn6H_93bzE3",
        "outputId": "85e242a4-87be-4a52-8c2b-f77d1531c0de"
      },
      "execution_count": 7,
      "outputs": [
        {
          "output_type": "stream",
          "name": "stdout",
          "text": [
            "Iter 1 | Best: 25.99482\n",
            "Iter 2 | Best: 12.46868\n",
            "Iter 3 | Best: 1.82580\n",
            "Iter 4 | Best: 1.22308\n",
            "Iter 5 | Best: 0.94266\n",
            "Iter 6 | Best: 0.38658\n",
            "Iter 7 | Best: 0.38658\n",
            "Iter 8 | Best: 0.09677\n",
            "Iter 9 | Best: 0.06774\n",
            "Iter 10 | Best: 0.06774\n",
            "Iter 11 | Best: 0.06774\n",
            "Iter 12 | Best: 0.06774\n",
            "Iter 13 | Best: 0.06438\n",
            "Iter 14 | Best: 0.06438\n",
            "Iter 15 | Best: 0.05923\n",
            "Iter 16 | Best: 0.05923\n",
            "Iter 17 | Best: 0.03258\n",
            "Iter 18 | Best: 0.03258\n",
            "Iter 19 | Best: 0.01914\n",
            "Iter 20 | Best: 0.01914\n",
            "Iter 21 | Best: 0.01545\n",
            "Iter 22 | Best: 0.01545\n",
            "Iter 23 | Best: 0.01545\n",
            "Iter 24 | Best: 0.01532\n",
            "Iter 25 | Best: 0.01436\n",
            "Iter 26 | Best: 0.01092\n",
            "Iter 27 | Best: 0.01092\n",
            "Iter 28 | Best: 0.01092\n",
            "Iter 29 | Best: 0.01080\n",
            "Iter 30 | Best: 0.00898\n",
            "Iter 31 | Best: 0.00898\n",
            "Iter 32 | Best: 0.00898\n",
            "Iter 33 | Best: 0.00872\n",
            "Iter 34 | Best: 0.00872\n",
            "Iter 35 | Best: 0.00872\n",
            "Iter 36 | Best: 0.00872\n",
            "Iter 37 | Best: 0.00838\n",
            "Iter 38 | Best: 0.00755\n",
            "Iter 39 | Best: 0.00686\n",
            "Iter 40 | Best: 0.00587\n",
            "Iter 41 | Best: 0.00571\n",
            "Iter 42 | Best: 0.00571\n",
            "Iter 43 | Best: 0.00571\n",
            "Iter 44 | Best: 0.00571\n",
            "Iter 45 | Best: 0.00571\n",
            "Iter 46 | Best: 0.00571\n",
            "Iter 47 | Best: 0.00571\n",
            "Iter 48 | Best: 0.00571\n",
            "Iter 49 | Best: 0.00547\n",
            "Iter 50 | Best: 0.00547\n",
            "\n",
            "Best Position: [ 0.0403973  -0.0477833   0.03070937  0.01656457 -0.01846915]\n",
            "Best Score: 0.005473745558495373\n"
          ]
        }
      ]
    },
    {
      "cell_type": "code",
      "source": [],
      "metadata": {
        "id": "iqjL6CWccGk4"
      },
      "execution_count": null,
      "outputs": []
    }
  ]
}