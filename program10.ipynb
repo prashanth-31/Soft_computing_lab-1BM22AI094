{
  "nbformat": 4,
  "nbformat_minor": 0,
  "metadata": {
    "colab": {
      "provenance": []
    },
    "kernelspec": {
      "name": "python3",
      "display_name": "Python 3"
    },
    "language_info": {
      "name": "python"
    }
  },
  "cells": [
    {
      "cell_type": "markdown",
      "source": [
        "Program 10\n",
        "\n",
        "Ensemble Network Programming"
      ],
      "metadata": {
        "id": "TaAYVjerby5c"
      }
    },
    {
      "cell_type": "code",
      "source": [
        "from sklearn.datasets import load_iris\n",
        "from sklearn.model_selection import train_test_split\n",
        "from sklearn.metrics import accuracy_score\n",
        "from sklearn.linear_model import LogisticRegression\n",
        "from sklearn.neighbors import KNeighborsClassifier\n",
        "from sklearn.tree import DecisionTreeClassifier\n",
        "from sklearn.ensemble import VotingClassifier\n",
        "\n",
        "# Load dataset\n",
        "iris = load_iris()\n",
        "X, y = iris.data, iris.target\n",
        "\n",
        "# Split dataset\n",
        "X_train, X_test, y_train, y_test = train_test_split(X, y, test_size=0.3, random_state=42)\n",
        "\n",
        "# Define base models\n",
        "model1 = LogisticRegression(max_iter=200)\n",
        "model2 = KNeighborsClassifier(n_neighbors=5)\n",
        "model3 = DecisionTreeClassifier()\n",
        "\n",
        "# Train base models separately and show predictions\n",
        "print(\"Training Base Models...\\n\")\n",
        "\n",
        "model1.fit(X_train, y_train)\n",
        "pred1 = model1.predict(X_test)\n",
        "print(\"Logistic Regression Predictions:\\n\", pred1)\n",
        "\n",
        "model2.fit(X_train, y_train)\n",
        "pred2 = model2.predict(X_test)\n",
        "print(\"\\nKNN Predictions:\\n\", pred2)\n",
        "\n",
        "model3.fit(X_train, y_train)\n",
        "pred3 = model3.predict(X_test)\n",
        "print(\"\\nDecision Tree Predictions:\\n\", pred3)\n",
        "\n",
        "# Hard Voting Ensemble\n",
        "hard_voting = VotingClassifier(estimators=[('lr', model1), ('knn', model2), ('dt', model3)], voting='hard')\n",
        "\n",
        "hard_voting.fit(X_train, y_train)\n",
        "hard_preds = hard_voting.predict(X_test)\n",
        "\n",
        "print(\"\\nHard Voting Ensemble Predictions:\\n\", hard_preds)\n",
        "print(\"Hard Voting Accuracy:\", accuracy_score(y_test, hard_preds))\n",
        "\n",
        "# Soft Voting Ensemble\n",
        "soft_voting = VotingClassifier(estimators=[('lr', model1), ('knn', model2), ('dt', model3)], voting='soft')\n",
        "\n",
        "soft_voting.fit(X_train, y_train)\n",
        "soft_preds = soft_voting.predict(X_test)\n",
        "\n",
        "print(\"\\nSoft Voting Ensemble Predictions:\\n\", soft_preds)\n",
        "print(\"Soft Voting Accuracy:\", accuracy_score(y_test, soft_preds))\n"
      ],
      "metadata": {
        "colab": {
          "base_uri": "https://localhost:8080/"
        },
        "id": "OXn6H_93bzE3",
        "outputId": "46cb9c55-9c67-4845-dba2-4d696f4137ef"
      },
      "execution_count": 10,
      "outputs": [
        {
          "output_type": "stream",
          "name": "stdout",
          "text": [
            "Training Base Models...\n",
            "\n",
            "Logistic Regression Predictions:\n",
            " [1 0 2 1 1 0 1 2 1 1 2 0 0 0 0 1 2 1 1 2 0 2 0 2 2 2 2 2 0 0 0 0 1 0 0 2 1\n",
            " 0 0 0 2 1 1 0 0]\n",
            "\n",
            "KNN Predictions:\n",
            " [1 0 2 1 1 0 1 2 1 1 2 0 0 0 0 1 2 1 1 2 0 2 0 2 2 2 2 2 0 0 0 0 1 0 0 2 1\n",
            " 0 0 0 2 1 1 0 0]\n",
            "\n",
            "Decision Tree Predictions:\n",
            " [1 0 2 1 1 0 1 2 1 1 2 0 0 0 0 1 2 1 1 2 0 2 0 2 2 2 2 2 0 0 0 0 1 0 0 2 1\n",
            " 0 0 0 2 1 1 0 0]\n",
            "\n",
            "Hard Voting Ensemble Predictions:\n",
            " [1 0 2 1 1 0 1 2 1 1 2 0 0 0 0 1 2 1 1 2 0 2 0 2 2 2 2 2 0 0 0 0 1 0 0 2 1\n",
            " 0 0 0 2 1 1 0 0]\n",
            "Hard Voting Accuracy: 1.0\n",
            "\n",
            "Soft Voting Ensemble Predictions:\n",
            " [1 0 2 1 1 0 1 2 1 1 2 0 0 0 0 1 2 1 1 2 0 2 0 2 2 2 2 2 0 0 0 0 1 0 0 2 1\n",
            " 0 0 0 2 1 1 0 0]\n",
            "Soft Voting Accuracy: 1.0\n"
          ]
        }
      ]
    },
    {
      "cell_type": "code",
      "source": [],
      "metadata": {
        "id": "iqjL6CWccGk4"
      },
      "execution_count": null,
      "outputs": []
    }
  ]
}