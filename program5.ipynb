{
  "nbformat": 4,
  "nbformat_minor": 0,
  "metadata": {
    "colab": {
      "provenance": []
    },
    "kernelspec": {
      "name": "python3",
      "display_name": "Python 3"
    },
    "language_info": {
      "name": "python"
    }
  },
  "cells": [
    {
      "cell_type": "markdown",
      "source": [
        "Program 5\n",
        "\n",
        "Ant Colony Optimization"
      ],
      "metadata": {
        "id": "TaAYVjerby5c"
      }
    },
    {
      "cell_type": "code",
      "source": [
        "import numpy as np\n",
        "\n",
        "# Parameters\n",
        "num_ants, num_iter, rho, Q = 2, 5, 0.1, 5  # Number of ants, iterations, evaporation rate, pheromone factor\n",
        "\n",
        "dist = np.array([[0,10,17,10], [10,0,10,10], [17,10,0,10], [10,10,10,0]])  # Distance matrix\n",
        "n = len(dist)  # Number of cities\n",
        "pher = np.ones((n, n))  # Initialize pheromone matrix with ones\n",
        "\n",
        "# Function to calculate the cost (total distance) of a given path\n",
        "def cost(path):\n",
        "    return sum(dist[path[i], path[i+1]] for i in range(n-1)) + dist[path[-1], path[0]]\n",
        "\n",
        "# Function to update pheromone levels based on solutions\n",
        "def update(pher, sols):\n",
        "    for path in sols:\n",
        "        for i in range(n):\n",
        "            pher[path[i], path[(i+1) % n]] += Q / cost(path)  # Pheromone deposit\n",
        "    pher *= (1 - rho)  # Evaporation of pheromone\n",
        "\n",
        "# Ant Colony Optimization function\n",
        "def aco():\n",
        "    best_path, best_cost = None, float('inf')\n",
        "    for _ in range(num_iter):\n",
        "        sols = [np.random.permutation(n) for _ in range(num_ants)]  # Generate solutions\n",
        "        update(pher, sols)  # Update pheromones\n",
        "        for path in sols:\n",
        "            c = cost(path)\n",
        "            if c < best_cost:\n",
        "                best_path, best_cost = path, c  # Update best solution\n",
        "    return best_path, best_cost\n",
        "\n",
        "# Run the ACO algorithm and print the best solution\n",
        "print(\"Best solution:\", *aco())"
      ],
      "metadata": {
        "colab": {
          "base_uri": "https://localhost:8080/"
        },
        "id": "OXn6H_93bzE3",
        "outputId": "355ceb67-da26-449c-e160-a3e6974850e0"
      },
      "execution_count": 5,
      "outputs": [
        {
          "output_type": "stream",
          "name": "stdout",
          "text": [
            "Best solution: [0 1 2 3] 40\n"
          ]
        }
      ]
    },
    {
      "cell_type": "code",
      "source": [],
      "metadata": {
        "id": "iqjL6CWccGk4"
      },
      "execution_count": null,
      "outputs": []
    }
  ]
}