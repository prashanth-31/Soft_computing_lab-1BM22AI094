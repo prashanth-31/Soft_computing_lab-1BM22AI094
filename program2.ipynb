{
  "nbformat": 4,
  "nbformat_minor": 0,
  "metadata": {
    "colab": {
      "provenance": []
    },
    "kernelspec": {
      "name": "python3",
      "display_name": "Python 3"
    },
    "language_info": {
      "name": "python"
    }
  },
  "cells": [
    {
      "cell_type": "markdown",
      "source": [
        "Program 2\n",
        "\n",
        "a) Defuzzification techniques\n",
        "\n",
        "b) Fuzzy Controller"
      ],
      "metadata": {
        "id": "TaAYVjerby5c"
      }
    },
    {
      "cell_type": "code",
      "source": [
        "# Defuzzification, Lambda cut method Define the fuzzy set as a dictionary where the keys are the elements and the values are their membership values\n",
        "fuzzy_set = {'x': 4.5, 'y': 3.5, 'z':4.33}\n",
        "\n",
        "# Define the lambda value for the cut\n",
        "lambda_value = 4\n",
        "\n",
        "# Perform the lambda cut\n",
        "def lambda_cut(fuzzy_set, lambda_value):\n",
        "    # Create a list to store the elements that satisfy the lambda-cut condition\n",
        "    cut_set = []\n",
        "\n",
        "    # Iterate through the fuzzy set\n",
        "    for element, membership_value in fuzzy_set.items():\n",
        "        if membership_value >= lambda_value:\n",
        "            cut_set.append(element)\n",
        "\n",
        "    return cut_set\n",
        "\n",
        "# Get the resulting crisp set (elements with membership >= lambda_value)\n",
        "result = lambda_cut(fuzzy_set, lambda_value)\n",
        "print(f\"Elements in the fuzzy set with membership >= {lambda_value}: {result}\")\n",
        "\n",
        "#Mean of maximum method\n",
        "def mean_of_maximum(fuzzy_set):\n",
        "    # Find the maximum membership value\n",
        "    max_membership = max(fuzzy_set.values())\n",
        "    max_x_values = [x for x, mu in fuzzy_set.items() if mu == max_membership]\n",
        "\n",
        "    # Compute the mean of these x values\n",
        "    return sum(max_x_values) / len(max_x_values)\n",
        "\n",
        "# Example fuzzy set (dictionary format: {x: membership_value})\n",
        "fuzzy_set = {1: 0.2, 2: 0.5, 3: 0.8, 4: 1.0, 5: 1.0, 6: 0.7, 7: 0.3}\n",
        "\n",
        "# Compute MOM defuzzification\n",
        "result = mean_of_maximum(fuzzy_set)\n",
        "\n",
        "# Output the result\n",
        "print(f\"Mean of Maximum (MOM) defuzzified value: {result}\")\n",
        "\n",
        "def center_of_gravity(fuzzy_set):\n",
        "    # Compute the numerator (sum of x * μ(x))\n",
        "    numerator = sum(x * mu for x, mu in fuzzy_set.items())\n",
        "    # Compute the denominator (sum of μ(x))\n",
        "    denominator = sum(fuzzy_set.values())\n",
        "\n",
        "    return numerator / denominator if denominator != 0 else 0\n",
        "\n",
        "# Example fuzzy set (dictionary format: {x: membership_value})\n",
        "fuzzy_set = {1: 0.2, 2: 0.5, 3: 0.8, 4: 1.0, 5: 0.7}\n",
        "\n",
        "# Compute COG defuzzification\n",
        "result = center_of_gravity(fuzzy_set)\n",
        "\n",
        "# Output the result\n",
        "print(f\"Center of Gravity (COG) defuzzified value: {result}\")"
      ],
      "metadata": {
        "colab": {
          "base_uri": "https://localhost:8080/"
        },
        "id": "OXn6H_93bzE3",
        "outputId": "962ba970-e830-4700-df46-5e75d1258d0a"
      },
      "execution_count": 2,
      "outputs": [
        {
          "output_type": "stream",
          "name": "stdout",
          "text": [
            "Elements in the fuzzy set with membership >= 4: ['x', 'z']\n",
            "Mean of Maximum (MOM) defuzzified value: 4.5\n",
            "Center of Gravity (COG) defuzzified value: 3.4687500000000004\n"
          ]
        }
      ]
    },
    {
      "cell_type": "code",
      "source": [],
      "metadata": {
        "id": "iqjL6CWccGk4"
      },
      "execution_count": null,
      "outputs": []
    }
  ]
}