{
  "nbformat": 4,
  "nbformat_minor": 0,
  "metadata": {
    "colab": {
      "provenance": []
    },
    "kernelspec": {
      "name": "python3",
      "display_name": "Python 3"
    },
    "language_info": {
      "name": "python"
    }
  },
  "cells": [
    {
      "cell_type": "markdown",
      "source": [
        "Program 1\n",
        "\n",
        "Fuzzy Relations (Max-min Composition)/ Implications / Inferences"
      ],
      "metadata": {
        "id": "TaAYVjerby5c"
      }
    },
    {
      "cell_type": "code",
      "source": [
        "import numpy as np\n",
        "\n",
        "# Fuzzy Relations for Temperature to Humidity (R(X -> Y))\n",
        "R = {\n",
        "    \"Low Temp\": [0.8, 0.5, 0.3],   # Dry, Normal, Humid\n",
        "    \"Medium Temp\": [0.6, 0.7, 0.4],\n",
        "    \"High Temp\": [0.3, 0.6, 0.9]\n",
        "}\n",
        "\n",
        "# Fuzzy Relations for Humidity to Cooling (S(Y -> Z))\n",
        "S = {\n",
        "    \"Dry\": [0.7, 0.4, 0.3],\n",
        "    \"Normal\": [0.5, 0.6, 0.4],\n",
        "    \"Humid\": [0.2, 0.5, 0.8]\n",
        "}\n",
        "\n",
        "# Input values\n",
        "temperature_input = \"Low Temp\"  # Low Temperature\n",
        "humidity_input = \"Dry\"         # Dry Humidity\n",
        "\n",
        "# Extract the relevant membership values for the given inputs\n",
        "mu_R = R[temperature_input]\n",
        "mu_S = S[humidity_input]\n",
        "\n",
        "# Apply Min-Max Composition\n",
        "def min_max_composition(mu_R, mu_S):\n",
        "    result = []\n",
        "    for z in range(3):\n",
        "        result.append(min(mu_R[z], mu_S[z]))\n",
        "    return result\n",
        "\n",
        "composed_result = min_max_composition(mu_R, mu_S)\n",
        "\n",
        "cooling_action = [\"Low Cooling\", \"Medium Cooling\", \"High Cooling\"]\n",
        "max_membership_value = max(composed_result)\n",
        "action_index = composed_result.index(max_membership_value)\n",
        "\n",
        "print(f\"Input: Temperature = {temperature_input}, Humidity = {humidity_input}\")\n",
        "print(f\"Membership values for Cooling Actions: {composed_result}\")\n",
        "print(f\"The system selects: {cooling_action[action_index]} with a membership value of {max_membership_value:.2f}\")"
      ],
      "metadata": {
        "colab": {
          "base_uri": "https://localhost:8080/"
        },
        "id": "OXn6H_93bzE3",
        "outputId": "6b8e745f-4523-4a1f-f09b-42d0482828ab"
      },
      "execution_count": 1,
      "outputs": [
        {
          "output_type": "stream",
          "name": "stdout",
          "text": [
            "Input: Temperature = Low Temp, Humidity = Dry\n",
            "Membership values for Cooling Actions: [0.7, 0.4, 0.3]\n",
            "The system selects: Low Cooling with a membership value of 0.70\n"
          ]
        }
      ]
    },
    {
      "cell_type": "code",
      "source": [],
      "metadata": {
        "id": "iqjL6CWccGk4"
      },
      "execution_count": null,
      "outputs": []
    }
  ]
}