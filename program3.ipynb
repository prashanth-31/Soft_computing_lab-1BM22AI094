{
  "nbformat": 4,
  "nbformat_minor": 0,
  "metadata": {
    "colab": {
      "provenance": []
    },
    "kernelspec": {
      "name": "python3",
      "display_name": "Python 3"
    },
    "language_info": {
      "name": "python"
    }
  },
  "cells": [
    {
      "cell_type": "markdown",
      "source": [
        "Program 3\n",
        "\n",
        "Genetic Algorithm"
      ],
      "metadata": {
        "id": "TaAYVjerby5c"
      }
    },
    {
      "cell_type": "code",
      "source": [
        "import random\n",
        "\n",
        "# GA Parameters\n",
        "POP_SIZE = 10          # Number of individuals\n",
        "CHROM_LENGTH = 5       # Bits (to represent 0 to 31)\n",
        "GENERATIONS = 20\n",
        "CROSSOVER_PROB = 0.8\n",
        "MUTATION_PROB = 0.1\n",
        "\n",
        "# Helper Functions\n",
        "# Binary to Decimal\n",
        "def decode(chrom):\n",
        "    return int(chrom, 2)\n",
        "\n",
        "# Fitness Function: f(x) = x^2\n",
        "def fitness(chrom):\n",
        "    x = decode(chrom)\n",
        "    return x ** 2\n",
        "\n",
        "# Initialize Population\n",
        "def initialize_population():\n",
        "    return [''.join(random.choice('01') for _ in range(CHROM_LENGTH)) for _ in range(POP_SIZE)]\n",
        "\n",
        "# Tournament Selection\n",
        "def select(pop):\n",
        "    k = 3\n",
        "    selected = random.sample(pop, k)\n",
        "    return max(selected, key=fitness)\n",
        "\n",
        "# Crossover: Single Point\n",
        "def crossover(p1, p2):\n",
        "    if random.random() < CROSSOVER_PROB:\n",
        "        point = random.randint(1, CHROM_LENGTH - 1)\n",
        "        return p1[:point] + p2[point:], p2[:point] + p1[point:]\n",
        "    return p1, p2\n",
        "\n",
        "# Mutation: Bit Flip\n",
        "def mutate(chrom):\n",
        "    chrom = list(chrom)\n",
        "    for i in range(CHROM_LENGTH):\n",
        "        if random.random() < MUTATION_PROB:\n",
        "            chrom[i] = '1' if chrom[i] == '0' else '0'\n",
        "    return ''.join(chrom)\n",
        "\n",
        "# Main GA Loop\n",
        "population = initialize_population()\n",
        "\n",
        "for gen in range(GENERATIONS):\n",
        "    # Evaluate fitness\n",
        "    population = sorted(population, key=fitness, reverse=True)\n",
        "    best = population[0]\n",
        "    print(f\"Generation {gen+1}: Best = {best} (x = {decode(best)}, fitness = {fitness(best)})\")\n",
        "\n",
        "    # Elitism: carry forward best\n",
        "    new_population = [best]\n",
        "    while len(new_population) < POP_SIZE:\n",
        "        parent1 = select(population)\n",
        "        parent2 = select(population)\n",
        "        offspring1, offspring2 = crossover(parent1, parent2)\n",
        "        offspring1 = mutate(offspring1)\n",
        "        offspring2 = mutate(offspring2)\n",
        "        new_population.extend([offspring1, offspring2])\n",
        "\n",
        "    population = new_population[:POP_SIZE]\n",
        "\n",
        "# Final Result\n",
        "best_chrom = max(population, key=fitness)\n",
        "best_x = decode(best_chrom)\n",
        "print(\"\\nOptimal Solution:\")\n",
        "print(f\"Chromosome: {best_chrom}, x = {best_x}, x^2 = {fitness(best_chrom)}\")"
      ],
      "metadata": {
        "colab": {
          "base_uri": "https://localhost:8080/"
        },
        "id": "OXn6H_93bzE3",
        "outputId": "20050a46-6488-4069-a8fd-8856f1b9e523"
      },
      "execution_count": 3,
      "outputs": [
        {
          "output_type": "stream",
          "name": "stdout",
          "text": [
            "Generation 1: Best = 11100 (x = 28, fitness = 784)\n",
            "Generation 2: Best = 11110 (x = 30, fitness = 900)\n",
            "Generation 3: Best = 11110 (x = 30, fitness = 900)\n",
            "Generation 4: Best = 11111 (x = 31, fitness = 961)\n",
            "Generation 5: Best = 11111 (x = 31, fitness = 961)\n",
            "Generation 6: Best = 11111 (x = 31, fitness = 961)\n",
            "Generation 7: Best = 11111 (x = 31, fitness = 961)\n",
            "Generation 8: Best = 11111 (x = 31, fitness = 961)\n",
            "Generation 9: Best = 11111 (x = 31, fitness = 961)\n",
            "Generation 10: Best = 11111 (x = 31, fitness = 961)\n",
            "Generation 11: Best = 11111 (x = 31, fitness = 961)\n",
            "Generation 12: Best = 11111 (x = 31, fitness = 961)\n",
            "Generation 13: Best = 11111 (x = 31, fitness = 961)\n",
            "Generation 14: Best = 11111 (x = 31, fitness = 961)\n",
            "Generation 15: Best = 11111 (x = 31, fitness = 961)\n",
            "Generation 16: Best = 11111 (x = 31, fitness = 961)\n",
            "Generation 17: Best = 11111 (x = 31, fitness = 961)\n",
            "Generation 18: Best = 11111 (x = 31, fitness = 961)\n",
            "Generation 19: Best = 11111 (x = 31, fitness = 961)\n",
            "Generation 20: Best = 11111 (x = 31, fitness = 961)\n",
            "\n",
            "Optimal Solution:\n",
            "Chromosome: 11111, x = 31, x^2 = 961\n"
          ]
        }
      ]
    },
    {
      "cell_type": "code",
      "source": [],
      "metadata": {
        "id": "iqjL6CWccGk4"
      },
      "execution_count": null,
      "outputs": []
    }
  ]
}