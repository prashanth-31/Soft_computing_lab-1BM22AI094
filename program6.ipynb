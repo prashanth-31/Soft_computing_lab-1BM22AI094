{
  "nbformat": 4,
  "nbformat_minor": 0,
  "metadata": {
    "colab": {
      "provenance": []
    },
    "kernelspec": {
      "name": "python3",
      "display_name": "Python 3"
    },
    "language_info": {
      "name": "python"
    }
  },
  "cells": [
    {
      "cell_type": "markdown",
      "source": [
        "Program 6\n",
        "\n",
        "Particle Swarm Optimization (PSO) for Function Optimization"
      ],
      "metadata": {
        "id": "TaAYVjerby5c"
      }
    },
    {
      "cell_type": "code",
      "source": [
        "import random\n",
        "\n",
        "def f(x):\n",
        "    return x**2\n",
        "\n",
        "#particle\n",
        "class Particle:\n",
        "    def __init__(self, lo=-10.0, hi=10.0):\n",
        "        self.position = random.uniform(lo, hi)\n",
        "        self.velocity = random.uniform(-1, 1)\n",
        "        self.best_position = self.position\n",
        "        self.best_value = f(self.position)\n",
        "\n",
        "    def update_velocity(self, global_best, w=0.5, c1=2, c2=2):\n",
        "        r1, r2 = random.random(), random.random()\n",
        "        cognitive = c1 * r1 * (self.best_position - self.position)\n",
        "        social    = c2 * r2 * (global_best  - self.position)\n",
        "        self.velocity = w * self.velocity + cognitive + social\n",
        "\n",
        "    def update_position(self, lo=-10.0, hi=10.0):\n",
        "        self.position += self.velocity\n",
        "        self.position = max(min(self.position, hi), lo)\n",
        "\n",
        "        value = f(self.position)\n",
        "        if value < self.best_value:\n",
        "            self.best_value    = value\n",
        "            self.best_position = self.position\n",
        "\n",
        "#PSO loop\n",
        "def pso(num_particles=30, num_iterations=100):\n",
        "    swarm = [Particle() for _ in range(num_particles)]\n",
        "\n",
        "    # initialise global best\n",
        "    global_best = swarm[0].best_position\n",
        "    global_best_value = f(global_best)\n",
        "\n",
        "    for _ in range(num_iterations):\n",
        "        for p in swarm:\n",
        "            p.update_velocity(global_best)\n",
        "            p.update_position()\n",
        "\n",
        "            if p.best_value < global_best_value:\n",
        "                global_best_value = p.best_value\n",
        "                global_best = p.best_position\n",
        "\n",
        "    return global_best, global_best_value\n",
        "\n",
        "if __name__ == \"__main__\":\n",
        "    best_pos, best_val = pso()\n",
        "    print(\"Best position :\", best_pos)\n",
        "    print(\"Minimum value :\", best_val)"
      ],
      "metadata": {
        "colab": {
          "base_uri": "https://localhost:8080/"
        },
        "id": "OXn6H_93bzE3",
        "outputId": "f47e3054-cafa-4267-dfda-f9a1c1fda0eb"
      },
      "execution_count": 6,
      "outputs": [
        {
          "output_type": "stream",
          "name": "stdout",
          "text": [
            "Best position : 1.499995131410248e-11\n",
            "Minimum value : 2.249985394254447e-22\n"
          ]
        }
      ]
    },
    {
      "cell_type": "code",
      "source": [],
      "metadata": {
        "id": "iqjL6CWccGk4"
      },
      "execution_count": null,
      "outputs": []
    }
  ]
}